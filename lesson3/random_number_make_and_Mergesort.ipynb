{
 "cells": [
  {
   "cell_type": "markdown",
   "metadata": {},
   "source": [
    "> 第一部分 随机数写读"
   ]
  },
  {
   "cell_type": "code",
   "execution_count": 1,
   "metadata": {},
   "outputs": [],
   "source": [
    "import os\n",
    "import random"
   ]
  },
  {
   "cell_type": "code",
   "execution_count": 2,
   "metadata": {},
   "outputs": [],
   "source": [
    "current_file = os.path.realpath('random_number_make.ipynb')  \n",
    "current_dir = os.path.dirname(current_file) "
   ]
  },
  {
   "cell_type": "code",
   "execution_count": 3,
   "metadata": {},
   "outputs": [],
   "source": [
    "file_path_w = os.path.join(current_dir, 'data.txt')"
   ]
  },
  {
   "cell_type": "code",
   "execution_count": 4,
   "metadata": {},
   "outputs": [],
   "source": [
    "with open(file_path_w, 'w') as my_file:\n",
    "    for i in range(20):\n",
    "        my_file.write(str(random.randint(1,100))+'\\t')"
   ]
  },
  {
   "cell_type": "code",
   "execution_count": 5,
   "metadata": {},
   "outputs": [],
   "source": [
    "file_path_r = os.path.join(current_dir, 'data.txt')"
   ]
  },
  {
   "cell_type": "code",
   "execution_count": 6,
   "metadata": {},
   "outputs": [],
   "source": [
    "num_random=[]"
   ]
  },
  {
   "cell_type": "code",
   "execution_count": 7,
   "metadata": {},
   "outputs": [],
   "source": [
    "with open(file_path_w, 'r') as my_file:\n",
    "    for line in my_file:\n",
    "        num_str = line"
   ]
  },
  {
   "cell_type": "code",
   "execution_count": 8,
   "metadata": {},
   "outputs": [
    {
     "name": "stdout",
     "output_type": "stream",
     "text": [
      "[39, 50, 5, 54, 18, 57, 62, 57, 56, 40, 8, 38, 80, 50, 96, 32, 67, 28, 86, 34]\n"
     ]
    }
   ],
   "source": [
    "num_list = num_str.split()\n",
    "for count in num_list:\n",
    "    num_random.append(int(count))"
   ]
  },
  {
   "cell_type": "code",
   "execution_count": 12,
   "metadata": {},
   "outputs": [
    {
     "name": "stdout",
     "output_type": "stream",
     "text": [
      "[39, 50, 5, 54, 18, 57, 62, 57, 56, 40, 8, 38, 80, 50, 96, 32, 67, 28, 86, 34]\n"
     ]
    }
   ],
   "source": [
    "print(num_random)"
   ]
  },
  {
   "cell_type": "markdown",
   "metadata": {},
   "source": [
    "> 第二部分 排序算法"
   ]
  },
  {
   "cell_type": "code",
   "execution_count": 9,
   "metadata": {},
   "outputs": [],
   "source": [
    "def merge(a,b):\n",
    "    i = 0\n",
    "    j = 0\n",
    "    c=[]\n",
    "    while i < len(a) and j < len(b):\n",
    "        if a[i] > b[j]:\n",
    "            c.append(b[j])\n",
    "            j += 1\n",
    "        else:\n",
    "            c.append(a[i])\n",
    "            i += 1\n",
    "    while i < len(a):\n",
    "        c.append(a[i])\n",
    "        i += 1\n",
    "    while j < len(b):\n",
    "        c.append(b[j])\n",
    "        j += 1\n",
    "    return c"
   ]
  },
  {
   "cell_type": "code",
   "execution_count": 10,
   "metadata": {},
   "outputs": [],
   "source": [
    "# 复杂度 O(nlogn)\n",
    "def mergesort(need_sort):\n",
    "    n=len(need_sort)\n",
    "    if n <= 1:\n",
    "        return need_sort\n",
    "    x=mergesort(need_sort[0:int(n/2)])\n",
    "    y=mergesort(need_sort[int(n/2):n])\n",
    "    ans=merge(x,y)\n",
    "    return ans"
   ]
  },
  {
   "cell_type": "code",
   "execution_count": 11,
   "metadata": {},
   "outputs": [
    {
     "name": "stdout",
     "output_type": "stream",
     "text": [
      "[5, 8, 18, 28, 32, 34, 38, 39, 40, 50, 50, 54, 56, 57, 57, 62, 67, 80, 86, 96]\n"
     ]
    }
   ],
   "source": [
    "print(mergesort(num_random))"
   ]
  }
 ],
 "metadata": {
  "kernelspec": {
   "display_name": "Python 3",
   "language": "python",
   "name": "python3"
  },
  "language_info": {
   "codemirror_mode": {
    "name": "ipython",
    "version": 3
   },
   "file_extension": ".py",
   "mimetype": "text/x-python",
   "name": "python",
   "nbconvert_exporter": "python",
   "pygments_lexer": "ipython3",
   "version": "3.7.0"
  }
 },
 "nbformat": 4,
 "nbformat_minor": 2
}
