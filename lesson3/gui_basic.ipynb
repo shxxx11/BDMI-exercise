{
 "cells": [
  {
   "cell_type": "code",
   "execution_count": 8,
   "metadata": {},
   "outputs": [],
   "source": [
    "from tkinter import *"
   ]
  },
  {
   "cell_type": "code",
   "execution_count": 9,
   "metadata": {},
   "outputs": [],
   "source": [
    "def click():\n",
    "    num_str = textbox1.get()\n",
    "    num_list = num_str.split()\n",
    "    sum=0\n",
    "    for i in num_list:\n",
    "        sum += int(i)\n",
    "    message = str(sum)\n",
    "    textbox2[\"bg\"] = \"yellow\"\n",
    "    textbox2[\"fg\"] = \"red\"\n",
    "    textbox2[\"text\"] = message"
   ]
  },
  {
   "cell_type": "code",
   "execution_count": 10,
   "metadata": {},
   "outputs": [],
   "source": [
    "\n",
    "window = Tk()\n",
    "window.geometry(\"500x200\")\n",
    "label1 = Label(text=\"Enter two number:\")\n",
    "label1.place(x=30, y=20)\n",
    "textbox1 = Entry(text=\"\")\n",
    "textbox1.place(x=150, y=20, width=200, height=25)\n",
    "textbox1['justify'] = 'center'\n",
    "textbox1.focus()\n",
    "\n",
    "button1 = Button(text='Press me', command=click)\n",
    "button1.place(x=30, y=50, width=120, height=25)\n",
    "\n",
    "textbox2 = Message(text=\"\")\n",
    "textbox2.place(x=150, y=50, width=200, height=50)\n",
    "textbox2[\"bg\"] = \"white\"\n",
    "textbox2[\"fg\"] = \"black\"\n",
    "window.mainloop()"
   ]
  },
  {
   "cell_type": "code",
   "execution_count": null,
   "metadata": {},
   "outputs": [],
   "source": []
  }
 ],
 "metadata": {
  "kernelspec": {
   "display_name": "Python 3",
   "language": "python",
   "name": "python3"
  },
  "language_info": {
   "codemirror_mode": {
    "name": "ipython",
    "version": 3
   },
   "file_extension": ".py",
   "mimetype": "text/x-python",
   "name": "python",
   "nbconvert_exporter": "python",
   "pygments_lexer": "ipython3",
   "version": "3.7.0"
  }
 },
 "nbformat": 4,
 "nbformat_minor": 2
}
