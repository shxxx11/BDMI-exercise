{
 "cells": [
  {
   "cell_type": "code",
   "execution_count": 1,
   "metadata": {},
   "outputs": [],
   "source": [
    "import sqlite3"
   ]
  },
  {
   "cell_type": "code",
   "execution_count": 2,
   "metadata": {},
   "outputs": [],
   "source": [
    "db = sqlite3.connect(\"university.db\") #生成（链接）数据库\n",
    "cursor = db.cursor() #连接到数据库的“指针”"
   ]
  },
  {
   "cell_type": "code",
   "execution_count": 3,
   "metadata": {},
   "outputs": [],
   "source": [
    "cursor.execute(\"\"\"CREATE TABLE IF NOT EXISTS students\n",
    "(id integer PRIMARY KEY,\n",
    "name text NOT NULL,\n",
    "gender text NOT NULL,\n",
    "age ineger NOT NULL);\"\"\") #创建表\n",
    "\n",
    "#向表中插入数据 insert\n",
    "cursor.execute(\"\"\"INSERT INTO students(id, name, gender, age) VALUES(1, 'zoutj', 'male', 18)\"\"\")\n",
    "cursor.execute(\"\"\"INSERT INTO students(id, name, gender, age) VALUES(2, 'lisa', 'female', 19)\"\"\")\n",
    "cursor.execute(\"\"\"INSERT INTO students(id, name, gender, age) VALUES(3, 'lihua', 'male', 17)\"\"\")\n",
    "\n",
    "db.commit() #保存更改"
   ]
  },
  {
   "cell_type": "code",
   "execution_count": 4,
   "metadata": {},
   "outputs": [],
   "source": [
    "cursor.execute(\"\"\"CREATE TABLE IF NOT EXISTS class\n",
    "(cid integer PRIMARY KEY,\n",
    "class_name text NOT NULL,\n",
    "teacher text NOT NULL);\"\"\")\n",
    "\n",
    "cursor.execute(\"\"\"INSERT INTO class(cid, class_name, teacher) VALUES(1, 'ee', 'ligl')\"\"\")\n",
    "cursor.execute(\"\"\"INSERT INTO class(cid, class_name, teacher) VALUES(2, 'bdmi', 'chenzhen')\"\"\")\n",
    "\n",
    "db.commit()"
   ]
  },
  {
   "cell_type": "code",
   "execution_count": 7,
   "metadata": {},
   "outputs": [],
   "source": [
    "cursor.execute(\"\"\"CREATE TABLE IF NOT EXISTS enrolled\n",
    "(id integer NOT NULL,\n",
    "cid integer NOT NULL,\n",
    "grade float NOT NULL);\"\"\")\n",
    "\n",
    "cursor.execute(\"\"\"INSERT INTO enrolled(id, cid, grade) VALUES(1, 1, 40)\"\"\")\n",
    "cursor.execute(\"\"\"INSERT INTO enrolled(id, cid, grade) VALUES(2, 2, 80)\"\"\")\n",
    "cursor.execute(\"\"\"INSERT INTO enrolled(id, cid, grade) VALUES(3, 3, 80)\"\"\")\n",
    "\n",
    "db.commit()"
   ]
  },
  {
   "cell_type": "code",
   "execution_count": 9,
   "metadata": {},
   "outputs": [
    {
     "ename": "SyntaxError",
     "evalue": "EOL while scanning string literal (<ipython-input-9-2a8e35ab9383>, line 2)",
     "output_type": "error",
     "traceback": [
      "\u001b[1;36m  File \u001b[1;32m\"<ipython-input-9-2a8e35ab9383>\"\u001b[1;36m, line \u001b[1;32m2\u001b[0m\n\u001b[1;33m    cursor.execute(\"SELECT * FROM students JION enrolled on students.id = enrolled.id)\u001b[0m\n\u001b[1;37m                                                                                      ^\u001b[0m\n\u001b[1;31mSyntaxError\u001b[0m\u001b[1;31m:\u001b[0m EOL while scanning string literal\n"
     ]
    }
   ],
   "source": [
    "cursor.execute(\"SELECT students.id,students.name,class.cid,enrolled.grade FROM students,class,enrolled WHERE students.id = enrolled.id and enrolled.cid = class.cid and class.cid = 2\")\n",
    "#cursor.execute(\"SELECT students.id, students.name, students.gender, students.age, enrolled.class, enrolled.grade FROM students JION enrolled on students.id = enrolled.id)\n",
    "print(cursor.fetchall()) #fetchall 得到所有结果\n"
   ]
  },
  {
   "cell_type": "code",
   "execution_count": null,
   "metadata": {},
   "outputs": [],
   "source": [
    "db.close() #关闭数据库"
   ]
  }
 ],
 "metadata": {
  "kernelspec": {
   "display_name": "Python 3",
   "language": "python",
   "name": "python3"
  },
  "language_info": {
   "codemirror_mode": {
    "name": "ipython",
    "version": 3
   },
   "file_extension": ".py",
   "mimetype": "text/x-python",
   "name": "python",
   "nbconvert_exporter": "python",
   "pygments_lexer": "ipython3",
   "version": "3.7.0"
  }
 },
 "nbformat": 4,
 "nbformat_minor": 2
}
