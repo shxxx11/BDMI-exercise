{
 "cells": [
  {
   "cell_type": "code",
   "execution_count": 3,
   "metadata": {},
   "outputs": [],
   "source": [
    "import numpy as np"
   ]
  },
  {
   "cell_type": "code",
   "execution_count": 22,
   "metadata": {},
   "outputs": [],
   "source": [
    "a = np.array(([1, 2, 3],[4, 5, 6]))"
   ]
  },
  {
   "cell_type": "code",
   "execution_count": 13,
   "metadata": {},
   "outputs": [
    {
     "data": {
      "text/plain": [
       "array([[1, 2, 3],\n",
       "       [4, 5, 6]])"
      ]
     },
     "execution_count": 13,
     "metadata": {},
     "output_type": "execute_result"
    }
   ],
   "source": [
    "a"
   ]
  },
  {
   "cell_type": "code",
   "execution_count": 14,
   "metadata": {},
   "outputs": [
    {
     "name": "stdout",
     "output_type": "stream",
     "text": [
      "[[1 2 3]\n",
      " [4 5 6]]\n"
     ]
    }
   ],
   "source": [
    "print(a)"
   ]
  },
  {
   "cell_type": "code",
   "execution_count": 15,
   "metadata": {},
   "outputs": [],
   "source": [
    "import scipy as sp"
   ]
  },
  {
   "cell_type": "code",
   "execution_count": 45,
   "metadata": {},
   "outputs": [],
   "source": [
    "b = np.array([[5,4,3],[2,1,0]])"
   ]
  },
  {
   "cell_type": "code",
   "execution_count": 43,
   "metadata": {},
   "outputs": [
    {
     "data": {
      "text/plain": [
       "array([[5, 2],\n",
       "       [4, 1],\n",
       "       [3, 0]])"
      ]
     },
     "execution_count": 43,
     "metadata": {},
     "output_type": "execute_result"
    }
   ],
   "source": [
    "b.transpose()"
   ]
  },
  {
   "cell_type": "code",
   "execution_count": 31,
   "metadata": {},
   "outputs": [
    {
     "name": "stdout",
     "output_type": "stream",
     "text": [
      "[[5 8 9]\n",
      " [8 5 0]]\n"
     ]
    }
   ],
   "source": [
    "print(a * b)"
   ]
  },
  {
   "cell_type": "code",
   "execution_count": 29,
   "metadata": {},
   "outputs": [
    {
     "data": {
      "text/plain": [
       "array([[1., 1., 1., 1., 1., 1.],\n",
       "       [1., 1., 1., 1., 1., 1.],\n",
       "       [1., 1., 1., 1., 1., 1.],\n",
       "       [1., 1., 1., 1., 1., 1.],\n",
       "       [1., 1., 1., 1., 1., 1.],\n",
       "       [1., 1., 1., 1., 1., 1.]])"
      ]
     },
     "execution_count": 29,
     "metadata": {},
     "output_type": "execute_result"
    }
   ],
   "source": [
    "c = np.ones((6,6))\n",
    "c"
   ]
  },
  {
   "cell_type": "code",
   "execution_count": 30,
   "metadata": {},
   "outputs": [
    {
     "data": {
      "text/plain": [
       "array([[1., 1., 1.],\n",
       "       [1., 1., 1.],\n",
       "       [1., 1., 1.]])"
      ]
     },
     "execution_count": 30,
     "metadata": {},
     "output_type": "execute_result"
    }
   ],
   "source": [
    "d = np.cos(np.zeros((3,3)))\n",
    "d"
   ]
  },
  {
   "cell_type": "code",
   "execution_count": 47,
   "metadata": {},
   "outputs": [
    {
     "name": "stdout",
     "output_type": "stream",
     "text": [
      "[[22  4]\n",
      " [58 13]]\n"
     ]
    }
   ],
   "source": [
    "print(np.dot(a,b.transpose()))"
   ]
  },
  {
   "cell_type": "code",
   "execution_count": 53,
   "metadata": {},
   "outputs": [
    {
     "data": {
      "text/plain": [
       "dtype('int32')"
      ]
     },
     "execution_count": 53,
     "metadata": {},
     "output_type": "execute_result"
    }
   ],
   "source": [
    "a.dtype"
   ]
  },
  {
   "cell_type": "markdown",
   "metadata": {},
   "source": [
    "# 激活函数"
   ]
  },
  {
   "cell_type": "code",
   "execution_count": 8,
   "metadata": {},
   "outputs": [],
   "source": [
    "def sigmoid(x):\n",
    "    return 1/(1 + np.power(np.e, -x))\n",
    "\n",
    "def tanh(x):\n",
    "    return (np.e ** x - np.e ** (-x))/(np.e ** x + np.e ** (-x))\n",
    "\n",
    "# def ReLU(x):\n",
    "#     if x > 0:\n",
    "#         return x\n",
    "#     return 0\n",
    "ReLU = lambda x: np.maximum(x, 0)"
   ]
  },
  {
   "cell_type": "code",
   "execution_count": 11,
   "metadata": {},
   "outputs": [
    {
     "data": {
      "text/plain": [
       "[<matplotlib.lines.Line2D at 0x16782594470>]"
      ]
     },
     "execution_count": 11,
     "metadata": {},
     "output_type": "execute_result"
    },
    {
     "data": {
      "image/png": "[encoded data removed]",
      "text/plain": [
       "<Figure size 432x288 with 1 Axes>"
      ]
     },
     "metadata": {
      "needs_background": "light"
     },
     "output_type": "display_data"
    }
   ],
   "source": [
    "import matplotlib.pyplot as plt\n",
    "x = np.arange(-10,10,0.1)\n",
    "y1 = sigmoid(x)\n",
    "y2 = tanh(x)\n",
    "y3 = ReLU(x)\n",
    "plt.plot(x,y1)\n",
    "plt.plot(x,y2)\n",
    "plt.plot(x,y3)"
   ]
  },
  {
   "cell_type": "code",
   "execution_count": 5,
   "metadata": {},
   "outputs": [
    {
     "name": "stdout",
     "output_type": "stream",
     "text": [
      "0.49\n",
      "0.6201064323430902\n"
     ]
    }
   ],
   "source": [
    "inputs = [1,0,1]\n",
    "weight = [-0.21, 0.3, 0.7]\n",
    "output1 = ReLU(np.dot(inputs,weight))\n",
    "print(output1)\n",
    "output2 = sigmoid(np.dot(inputs,weight))\n",
    "print(output2)"
   ]
  },
  {
   "cell_type": "markdown",
   "metadata": {},
   "source": [
    "# 通过激活函数实现布尔运算"
   ]
  },
  {
   "cell_type": "code",
   "execution_count": 67,
   "metadata": {},
   "outputs": [],
   "source": [
    "sigmoid = lambda x: 1/(1 + np.exp(-x))\n",
    "AND = lambda x: int(np.round(sigmoid(20 * x[0] + 20 * x[1] -30)))\n",
    "OR = lambda x: int(round(sigmoid(20 * x[0] + 20 * x[1] - 10)))\n",
    "NOT = lambda x: int(round(sigmoid(x * -20 + 10)))\n",
    "NAND = lambda x: OR((NOT(x[0]),NOT(x[1])))\n",
    "XOR = lambda x: AND((OR(x),NAND(x)))"
   ]
  },
  {
   "cell_type": "code",
   "execution_count": 72,
   "metadata": {},
   "outputs": [
    {
     "name": "stdout",
     "output_type": "stream",
     "text": [
      "0 0 0 1\n",
      "0 1 1 1\n",
      "1\n",
      "1 1 1 0\n",
      "0 1 1 0\n"
     ]
    }
   ],
   "source": [
    "x1 = np.array((0,0))\n",
    "x2 = np.array((1,0))\n",
    "x3 = np.array((0,1))\n",
    "x4 = np.array((1,1))\n",
    "print(AND(x1),AND(x2),AND(x3),AND(x4))\n",
    "print(OR(x1),OR(x2),OR(x3),OR(x4))\n",
    "print(NOT(0))\n",
    "print(NAND(x1),NAND(x2),NAND(x3),NAND(x4))\n",
    "print(XOR(x1),XOR(x2),XOR(x3),XOR(x4))"
   ]
  },
  {
   "cell_type": "code",
   "execution_count": 88,
   "metadata": {},
   "outputs": [],
   "source": [
    "def softmax(x):\n",
    "    e_x = np.exp(x)\n",
    "    s = np.sum(e_x)\n",
    "    ans = []\n",
    "    for i in e_x:\n",
    "        ans.append(i / s)\n",
    "    return ans\n",
    "\n",
    "logit = lambda x: np.log(x/(1-x))"
   ]
  },
  {
   "cell_type": "code",
   "execution_count": 89,
   "metadata": {},
   "outputs": [
    {
     "name": "stdout",
     "output_type": "stream",
     "text": [
      "[0.00021207899644323425, 0.0005764904822294742, 0.0015670636021239718, 0.004259720513693168, 0.011579120866686367, 0.0314753138414445, 0.08555877366024406, 0.23257285970588182, 0.6321985783312535]\n",
      "2.1972245773362196\n"
     ]
    }
   ],
   "source": [
    "print(softmax([1,2,3,4,5,6,7,8,9]))\n",
    "print(logit(0.9))"
   ]
  }
 ],
 "metadata": {
  "kernelspec": {
   "display_name": "Python 3",
   "language": "python",
   "name": "python3"
  },
  "language_info": {
   "codemirror_mode": {
    "name": "ipython",
    "version": 3
   },
   "file_extension": ".py",
   "mimetype": "text/x-python",
   "name": "python",
   "nbconvert_exporter": "python",
   "pygments_lexer": "ipython3",
   "version": "3.7.0"
  }
 },
 "nbformat": 4,
 "nbformat_minor": 2
}
