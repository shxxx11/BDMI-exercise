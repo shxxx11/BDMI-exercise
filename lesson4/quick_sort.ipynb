{
 "cells": [
  {
   "cell_type": "code",
   "execution_count": 1,
   "metadata": {},
   "outputs": [],
   "source": [
    "import math\n",
    "import random"
   ]
  },
  {
   "cell_type": "code",
   "execution_count": 5,
   "metadata": {},
   "outputs": [],
   "source": [
    "def quick_sort_gai(a):\n",
    "    if len(a) <= 1:\n",
    "        return a\n",
    "    l = []\n",
    "    r = []\n",
    "    e = []\n",
    "    p = random.choice(range(len(a)))\n",
    "    for i in range(len(a)):\n",
    "        if a[i] == a[p]:\n",
    "            e.append(a[i])\n",
    "        if a[i] < a[p]:\n",
    "            l.append(a[i])\n",
    "        if a[i] > a[p]:\n",
    "            r.append(a[i])\n",
    "    return quick_sort_gai(l) + e + quick_sort_gai(r)\n",
    "\n",
    "def quick_sort(a): # 理想情况 复杂度O(nlog(n)) 最坏情况O(n^2)\n",
    "    if len(a) <= 1:\n",
    "        return a\n",
    "    l = []\n",
    "    r = []\n",
    "    # p = random.choice(range(len(a)))\n",
    "    p = 1\n",
    "    e=[a[p]]\n",
    "    for i in range(len(a)):\n",
    "        if i == p:\n",
    "            continue\n",
    "        if a[i] < a[p]:\n",
    "            l.append(a[i])\n",
    "        if a[i] > a[p]:\n",
    "            r.append(a[i])\n",
    "    return quick_sort(l) + e + quick_sort(r)"
   ]
  },
  {
   "cell_type": "code",
   "execution_count": 6,
   "metadata": {},
   "outputs": [
    {
     "name": "stdout",
     "output_type": "stream",
     "text": [
      "[89, 70, 20, 42, 82, 26, 5, 65, 59, 34, 29, 80, 19, 78, 82, 81, 16, 79, 29, 72, 4, 24, 7, 30, 88, 86, 24, 20, 75, 31, 99, 8, 21, 45, 10, 69, 60, 74, 57, 40, 41, 11, 12, 84, 93, 60, 44, 81, 8, 71, 51, 73, 90, 54, 11, 61, 76, 78, 45, 34, 98, 24, 30, 87, 83, 35, 2, 21, 67, 50, 59, 79, 93, 72, 69, 65, 60, 47, 3, 17, 80, 11, 20, 67, 84, 96, 28, 48, 36, 80, 70, 23, 88, 59, 17, 96, 61, 52, 52, 91]\n",
      "100\n"
     ]
    }
   ],
   "source": [
    "a = []\n",
    "for i in range(100):\n",
    "    a.append(random.choice(range(100)))\n",
    "print(a)\n",
    "print(len(a))"
   ]
  },
  {
   "cell_type": "code",
   "execution_count": 7,
   "metadata": {},
   "outputs": [
    {
     "name": "stdout",
     "output_type": "stream",
     "text": [
      "[2, 3, 4, 5, 7, 8, 8, 10, 11, 11, 11, 12, 16, 17, 17, 19, 20, 20, 20, 21, 21, 23, 24, 24, 24, 26, 28, 29, 29, 30, 30, 31, 34, 34, 35, 36, 40, 41, 42, 44, 45, 45, 47, 48, 50, 51, 52, 52, 54, 57, 59, 59, 59, 60, 60, 60, 61, 61, 65, 65, 67, 67, 69, 69, 70, 70, 71, 72, 72, 73, 74, 75, 76, 78, 78, 79, 79, 80, 80, 80, 81, 81, 82, 82, 83, 84, 84, 86, 87, 88, 88, 89, 90, 91, 93, 93, 96, 96, 98, 99]\n",
      "100\n",
      "[2, 3, 4, 5, 7, 8, 10, 11, 12, 16, 17, 19, 20, 21, 23, 24, 26, 28, 29, 30, 31, 34, 35, 36, 40, 41, 42, 44, 45, 47, 48, 50, 51, 52, 54, 57, 59, 60, 61, 65, 67, 69, 70, 71, 72, 73, 74, 75, 76, 78, 79, 80, 81, 82, 83, 84, 86, 87, 88, 89, 90, 91, 93, 96, 98, 99]\n",
      "66\n"
     ]
    }
   ],
   "source": [
    "b=quick_sort_gai(a)\n",
    "c=quick_sort(a)\n",
    "print(b)\n",
    "print(len(b))\n",
    "print(c)\n",
    "print(len(c))"
   ]
  },
  {
   "cell_type": "code",
   "execution_count": null,
   "metadata": {},
   "outputs": [],
   "source": []
  }
 ],
 "metadata": {
  "kernelspec": {
   "display_name": "Python 3",
   "language": "python",
   "name": "python3"
  },
  "language_info": {
   "codemirror_mode": {
    "name": "ipython",
    "version": 3
   },
   "file_extension": ".py",
   "mimetype": "text/x-python",
   "name": "python",
   "nbconvert_exporter": "python",
   "pygments_lexer": "ipython3",
   "version": "3.7.0"
  }
 },
 "nbformat": 4,
 "nbformat_minor": 2
}
